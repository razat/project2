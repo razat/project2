{
 "cells": [
  {
   "cell_type": "markdown",
   "metadata": {
    "collapsed": true,
    "deletable": true,
    "editable": true
   },
   "source": [
    "# Image Classification\n",
    "In this project, you'll classify images from the [CIFAR-10 dataset](https://www.cs.toronto.edu/~kriz/cifar.html).  The dataset consists of airplanes, dogs, cats, and other objects. You'll preprocess the images, then train a convolutional neural network on all the samples. The images need to be normalized and the labels need to be one-hot encoded.  You'll get to apply what you learned and build a convolutional, max pooling, dropout, and fully connected layers.  At the end, you'll get to see your neural network's predictions on the sample images.\n",
    "## Get the Data\n",
    "Run the following cell to download the [CIFAR-10 dataset for python](https://www.cs.toronto.edu/~kriz/cifar-10-python.tar.gz)."
   ]
  },
  {
   "cell_type": "code",
   "execution_count": 1,
   "metadata": {
    "collapsed": false,
    "deletable": true,
    "editable": true
   },
   "outputs": [
    {
     "name": "stderr",
     "output_type": "stream",
     "text": [
      "CIFAR-10 Dataset: 171MB [01:15, 2.27MB/s]                               \n"
     ]
    },
    {
     "name": "stdout",
     "output_type": "stream",
     "text": [
      "All files found!\n"
     ]
    }
   ],
   "source": [
    "\"\"\"\n",
    "DON'T MODIFY ANYTHING IN THIS CELL THAT IS BELOW THIS LINE\n",
    "\"\"\"\n",
    "from urllib.request import urlretrieve\n",
    "from os.path import isfile, isdir\n",
    "from tqdm import tqdm\n",
    "import problem_unittests as tests\n",
    "import tarfile\n",
    "\n",
    "cifar10_dataset_folder_path = 'cifar-10-batches-py'\n",
    "\n",
    "class DLProgress(tqdm):\n",
    "    last_block = 0\n",
    "\n",
    "    def hook(self, block_num=1, block_size=1, total_size=None):\n",
    "        self.total = total_size\n",
    "        self.update((block_num - self.last_block) * block_size)\n",
    "        self.last_block = block_num\n",
    "\n",
    "if not isfile('cifar-10-python.tar.gz'):\n",
    "    with DLProgress(unit='B', unit_scale=True, miniters=1, desc='CIFAR-10 Dataset') as pbar:\n",
    "        urlretrieve(\n",
    "            'https://www.cs.toronto.edu/~kriz/cifar-10-python.tar.gz',\n",
    "            'cifar-10-python.tar.gz',\n",
    "            pbar.hook)\n",
    "\n",
    "if not isdir(cifar10_dataset_folder_path):\n",
    "    with tarfile.open('cifar-10-python.tar.gz') as tar:\n",
    "        tar.extractall()\n",
    "        tar.close()\n",
    "\n",
    "\n",
    "tests.test_folder_path(cifar10_dataset_folder_path)"
   ]
  },
  {
   "cell_type": "markdown",
   "metadata": {
    "deletable": true,
    "editable": true
   },
   "source": [
    "## Explore the Data\n",
    "The dataset is broken into batches to prevent your machine from running out of memory.  The CIFAR-10 dataset consists of 5 batches, named `data_batch_1`, `data_batch_2`, etc.. Each batch contains the labels and images that are one of the following:\n",
    "* airplane\n",
    "* automobile\n",
    "* bird\n",
    "* cat\n",
    "* deer\n",
    "* dog\n",
    "* frog\n",
    "* horse\n",
    "* ship\n",
    "* truck\n",
    "\n",
    "Understanding a dataset is part of making predictions on the data.  Play around with the code cell below by changing the `batch_id` and `sample_id`. The `batch_id` is the id for a batch (1-5). The `sample_id` is the id for a image and label pair in the batch.\n",
    "\n",
    "Ask yourself \"What are all possible labels?\", \"What is the range of values for the image data?\", \"Are the labels in order or random?\".  Answers to questions like these will help you preprocess the data and end up with better predictions."
   ]
  },
  {
   "cell_type": "code",
   "execution_count": 2,
   "metadata": {
    "collapsed": false,
    "deletable": true,
    "editable": true
   },
   "outputs": [
    {
     "name": "stdout",
     "output_type": "stream",
     "text": [
      "\n",
      "Stats of batch 3:\n",
      "Samples: 10000\n",
      "Label Counts: {0: 994, 1: 1042, 2: 965, 3: 997, 4: 990, 5: 1029, 6: 978, 7: 1015, 8: 961, 9: 1029}\n",
      "First 20 Labels: [8, 5, 0, 6, 9, 2, 8, 3, 6, 2, 7, 4, 6, 9, 0, 0, 7, 3, 7, 2]\n",
      "\n",
      "Example of Image 25:\n",
      "Image - Min Value: 6 Max Value: 167\n",
      "Image - Shape: (32, 32, 3)\n",
      "Label - Label Id: 6 Name: frog\n"
     ]
    },
    {
     "data": {
      "image/png": "[encoded data removed]",
      "text/plain": [
       "<matplotlib.figure.Figure at 0x7f0bd75deac8>"
      ]
     },
     "metadata": {
      "image/png": {
       "height": 250,
       "width": 253
      }
     },
     "output_type": "display_data"
    }
   ],
   "source": [
    "%matplotlib inline\n",
    "%config InlineBackend.figure_format = 'retina'\n",
    "\n",
    "import helper\n",
    "import numpy as np\n",
    "\n",
    "# Explore the dataset\n",
    "batch_id = 3\n",
    "sample_id = 25\n",
    "helper.display_stats(cifar10_dataset_folder_path, batch_id, sample_id)"
   ]
  },
  {
   "cell_type": "markdown",
   "metadata": {
    "deletable": true,
    "editable": true
   },
   "source": [
    "## Implement Preprocess Functions\n",
    "### Normalize\n",
    "In the cell below, implement the `normalize` function to take in image data, `x`, and return it as a normalized Numpy array. The values should be in the range of 0 to 1, inclusive.  The return object should be the same shape as `x`."
   ]
  },
  {
   "cell_type": "code",
   "execution_count": 156,
   "metadata": {
    "collapsed": false,
    "deletable": true,
    "editable": true
   },
   "outputs": [
    {
     "name": "stdout",
     "output_type": "stream",
     "text": [
      "Tests Passed\n"
     ]
    }
   ],
   "source": [
    "def normalize(x):\n",
    "    \"\"\"\n",
    "    Normalize a list of sample image data in the range of 0 to 1\n",
    "    : x: List of image data.  The image shape is (32, 32, 3)\n",
    "    : return: Numpy array of normalize data\n",
    "    \"\"\"\n",
    "    # TODO: Implement Function\n",
    "    a = 0.1\n",
    "    b = 0.9\n",
    "    grayscale_min = 0\n",
    "    grayscale_max = 255\n",
    "    normalize = a + ((x - grayscale_min)*(b-a))/(grayscale_max - grayscale_min)\n",
    "    return normalize\n",
    "\n",
    "\n",
    "\"\"\"\n",
    "DON'T MODIFY ANYTHING IN THIS CELL THAT IS BELOW THIS LINE\n",
    "\"\"\"\n",
    "tests.test_normalize(normalize)"
   ]
  },
  {
   "cell_type": "markdown",
   "metadata": {
    "deletable": true,
    "editable": true
   },
   "source": [
    "### One-hot encode\n",
    "Just like the previous code cell, you'll be implementing a function for preprocessing.  This time, you'll implement the `one_hot_encode` function. The input, `x`, are a list of labels.  Implement the function to return the list of labels as One-Hot encoded Numpy array.  The possible values for labels are 0 to 9. The one-hot encoding function should return the same encoding for each value between each call to `one_hot_encode`.  Make sure to save the map of encodings outside the function.\n",
    "\n",
    "Hint: Don't reinvent the wheel."
   ]
  },
  {
   "cell_type": "code",
   "execution_count": 157,
   "metadata": {
    "collapsed": false,
    "deletable": true,
    "editable": true
   },
   "outputs": [
    {
     "name": "stdout",
     "output_type": "stream",
     "text": [
      "Tests Passed\n"
     ]
    }
   ],
   "source": [
    "from sklearn.preprocessing import LabelBinarizer\n",
    "encoding = None\n",
    "def one_hot_encode(x):\n",
    "    \"\"\"\n",
    "    One hot encode a list of sample labels. Return a one-hot encoded vector for each label.\n",
    "    : x: List of sample Labels\n",
    "    : return: Numpy array of one-hot encoded labels\n",
    "    \"\"\"\n",
    "    # TODO: Implement Function\n",
    "    global encoding\n",
    "    encoder = LabelBinarizer()\n",
    "    if not encoding:\n",
    "        encoding = encoder.fit(x)\n",
    "    return encoding.transform(x)\n",
    "\n",
    "\n",
    "\"\"\"\n",
    "DON'T MODIFY ANYTHING IN THIS CELL THAT IS BELOW THIS LINE\n",
    "\"\"\"\n",
    "tests.test_one_hot_encode(one_hot_encode)"
   ]
  },
  {
   "cell_type": "markdown",
   "metadata": {
    "deletable": true,
    "editable": true
   },
   "source": [
    "### Randomize Data\n",
    "As you saw from exploring the data above, the order of the samples are randomized.  It doesn't hurt to randomize it again, but you don't need to for this dataset."
   ]
  },
  {
   "cell_type": "markdown",
   "metadata": {
    "deletable": true,
    "editable": true
   },
   "source": [
    "## Preprocess all the data and save it\n",
    "Running the code cell below will preprocess all the CIFAR-10 data and save it to file. The code below also uses 10% of the training data for validation."
   ]
  },
  {
   "cell_type": "code",
   "execution_count": 158,
   "metadata": {
    "collapsed": false,
    "deletable": true,
    "editable": true
   },
   "outputs": [],
   "source": [
    "\"\"\"\n",
    "DON'T MODIFY ANYTHING IN THIS CELL\n",
    "\"\"\"\n",
    "# Preprocess Training, Validation, and Testing Data\n",
    "helper.preprocess_and_save_data(cifar10_dataset_folder_path, normalize, one_hot_encode)"
   ]
  },
  {
   "cell_type": "markdown",
   "metadata": {
    "deletable": true,
    "editable": true
   },
   "source": [
    "# Check Point\n",
    "This is your first checkpoint.  If you ever decide to come back to this notebook or have to restart the notebook, you can start from here.  The preprocessed data has been saved to disk."
   ]
  },
  {
   "cell_type": "code",
   "execution_count": 159,
   "metadata": {
    "collapsed": true,
    "deletable": true,
    "editable": true
   },
   "outputs": [],
   "source": [
    "\"\"\"\n",
    "DON'T MODIFY ANYTHING IN THIS CELL\n",
    "\"\"\"\n",
    "import pickle\n",
    "import problem_unittests as tests\n",
    "import helper\n",
    "\n",
    "# Load the Preprocessed Validation data\n",
    "valid_features, valid_labels = pickle.load(open('preprocess_validation.p', mode='rb'))"
   ]
  },
  {
   "cell_type": "markdown",
   "metadata": {
    "deletable": true,
    "editable": true
   },
   "source": [
    "## Build the network\n",
    "For the neural network, you'll build each layer into a function.  Most of the code you've seen has been outside of functions. To test your code more thoroughly, we require that you put each layer in a function.  This allows us to give you better feedback and test for simple mistakes using our unittests before you submit your project.\n",
    "\n",
    ">**Note:** If you're finding it hard to dedicate enough time for this course each week, we've provided a small shortcut to this part of the project. In the next couple of problems, you'll have the option to use classes from the [TensorFlow Layers](https://www.tensorflow.org/api_docs/python/tf/layers) or [TensorFlow Layers (contrib)](https://www.tensorflow.org/api_guides/python/contrib.layers) packages to build each layer, except the layers you build in the \"Convolutional and Max Pooling Layer\" section.  TF Layers is similar to Keras's and TFLearn's abstraction to layers, so it's easy to pickup.\n",
    "\n",
    ">However, if you would like to get the most out of this course, try to solve all the problems _without_ using anything from the TF Layers packages. You **can** still use classes from other packages that happen to have the same name as ones you find in TF Layers! For example, instead of using the TF Layers version of the `conv2d` class, [tf.layers.conv2d](https://www.tensorflow.org/api_docs/python/tf/layers/conv2d), you would want to use the TF Neural Network version of `conv2d`, [tf.nn.conv2d](https://www.tensorflow.org/api_docs/python/tf/nn/conv2d). \n",
    "\n",
    "Let's begin!\n",
    "\n",
    "### Input\n",
    "The neural network needs to read the image data, one-hot encoded labels, and dropout keep probability. Implement the following functions\n",
    "* Implement `neural_net_image_input`\n",
    " * Return a [TF Placeholder](https://www.tensorflow.org/api_docs/python/tf/placeholder)\n",
    " * Set the shape using `image_shape` with batch size set to `None`.\n",
    " * Name the TensorFlow placeholder \"x\" using the TensorFlow `name` parameter in the [TF Placeholder](https://www.tensorflow.org/api_docs/python/tf/placeholder).\n",
    "* Implement `neural_net_label_input`\n",
    " * Return a [TF Placeholder](https://www.tensorflow.org/api_docs/python/tf/placeholder)\n",
    " * Set the shape using `n_classes` with batch size set to `None`.\n",
    " * Name the TensorFlow placeholder \"y\" using the TensorFlow `name` parameter in the [TF Placeholder](https://www.tensorflow.org/api_docs/python/tf/placeholder).\n",
    "* Implement `neural_net_keep_prob_input`\n",
    " * Return a [TF Placeholder](https://www.tensorflow.org/api_docs/python/tf/placeholder) for dropout keep probability.\n",
    " * Name the TensorFlow placeholder \"keep_prob\" using the TensorFlow `name` parameter in the [TF Placeholder](https://www.tensorflow.org/api_docs/python/tf/placeholder).\n",
    "\n",
    "These names will be used at the end of the project to load your saved model.\n",
    "\n",
    "Note: `None` for shapes in TensorFlow allow for a dynamic size."
   ]
  },
  {
   "cell_type": "code",
   "execution_count": 160,
   "metadata": {
    "collapsed": false,
    "deletable": true,
    "editable": true
   },
   "outputs": [
    {
     "name": "stdout",
     "output_type": "stream",
     "text": [
      "Image Input Tests Passed.\n",
      "Label Input Tests Passed.\n",
      "Keep Prob Tests Passed.\n"
     ]
    }
   ],
   "source": [
    "import tensorflow as tf\n",
    "\n",
    "def neural_net_image_input(image_shape):\n",
    "    \"\"\"\n",
    "    Return a Tensor for a bach of image input\n",
    "    : image_shape: Shape of the images\n",
    "    : return: Tensor for image input.\n",
    "    \"\"\"\n",
    "    # TODO: Implement Function\n",
    "    image_tensor = (None,)\n",
    "    image_tensor = image_tensor + image_shape\n",
    "    image = tf.placeholder(tf.float32, shape=image_tensor, name='x')\n",
    "    return image\n",
    "\n",
    "\n",
    "def neural_net_label_input(n_classes):\n",
    "    \"\"\"\n",
    "    Return a Tensor for a batch of label input\n",
    "    : n_classes: Number of classes\n",
    "    : return: Tensor for label input.\n",
    "    \"\"\"\n",
    "    # TODO: Implement Function\n",
    "    label = tf.placeholder(tf.int8, shape=(None, n_classes), name='y')\n",
    "    return label\n",
    "\n",
    "def neural_net_keep_prob_input():\n",
    "    \"\"\"\n",
    "    Return a Tensor for keep probability\n",
    "    : return: Tensor for keep probability.\n",
    "    \"\"\"\n",
    "    # TODO: Implement Function\n",
    "    keep_prob = tf.placeholder(tf.float32, name=\"keep_prob\")\n",
    "    return keep_prob\n",
    "\n",
    "\n",
    "\"\"\"\n",
    "DON'T MODIFY ANYTHING IN THIS CELL THAT IS BELOW THIS LINE\n",
    "\"\"\"\n",
    "tf.reset_default_graph()\n",
    "tests.test_nn_image_inputs(neural_net_image_input)\n",
    "tests.test_nn_label_inputs(neural_net_label_input)\n",
    "tests.test_nn_keep_prob_inputs(neural_net_keep_prob_input)"
   ]
  },
  {
   "cell_type": "markdown",
   "metadata": {
    "deletable": true,
    "editable": true
   },
   "source": [
    "### Convolution and Max Pooling Layer\n",
    "Convolution layers have a lot of success with images. For this code cell, you should implement the function `conv2d_maxpool` to apply convolution then max pooling:\n",
    "* Create the weight and bias using `conv_ksize`, `conv_num_outputs` and the shape of `x_tensor`.\n",
    "* Apply a convolution to `x_tensor` using weight and `conv_strides`.\n",
    " * We recommend you use same padding, but you're welcome to use any padding.\n",
    "* Add bias\n",
    "* Add a nonlinear activation to the convolution.\n",
    "* Apply Max Pooling using `pool_ksize` and `pool_strides`.\n",
    " * We recommend you use same padding, but you're welcome to use any padding.\n",
    "\n",
    "**Note:** You **can't** use [TensorFlow Layers](https://www.tensorflow.org/api_docs/python/tf/layers) or [TensorFlow Layers (contrib)](https://www.tensorflow.org/api_guides/python/contrib.layers) for **this** layer, but you can still use TensorFlow's [Neural Network](https://www.tensorflow.org/api_docs/python/tf/nn) package. You may still use the shortcut option for all the **other** layers."
   ]
  },
  {
   "cell_type": "code",
   "execution_count": 719,
   "metadata": {
    "collapsed": false,
    "deletable": true,
    "editable": true
   },
   "outputs": [
    {
     "name": "stdout",
     "output_type": "stream",
     "text": [
      "Tests Passed\n"
     ]
    }
   ],
   "source": [
    "def conv2d_maxpool(x_tensor, conv_num_outputs, conv_ksize, conv_strides, pool_ksize, pool_strides):\n",
    "    \"\"\"\n",
    "    Apply convolution then max pooling to x_tensor\n",
    "    :param x_tensor: TensorFlow Tensor\n",
    "    :param conv_num_outputs: Number of outputs for the convolutional layer\n",
    "    :param conv_ksize: kernal size 2-D Tuple for the convolutional layer\n",
    "    :param conv_strides: Stride 2-D Tuple for convolution\n",
    "    :param pool_ksize: kernal size 2-D Tuple for pool\n",
    "    :param pool_strides: Stride 2-D Tuple for pool\n",
    "    : return: A tensor that represents convolution and max pooling of x_tensor\n",
    "    \"\"\"\n",
    "    # TODO: Implement Function\n",
    "    color_chanels = x_tensor.get_shape().as_list()[3]\n",
    "    weight = tf.Variable(tf.truncated_normal([conv_ksize[0], conv_ksize[1], color_chanels, conv_num_outputs], stddev=0.05))\n",
    "    bias = tf.Variable(tf.zeros([conv_num_outputs]))\n",
    "    conv2d = tf.nn.conv2d(x_tensor, weight, strides=[1, conv_strides[0], conv_strides[1], 1], padding='SAME')\n",
    "    conv2d = tf.nn.bias_add(conv2d, bias)\n",
    "    conv2d = tf.nn.relu(conv2d)\n",
    "    conv2d =  tf.nn.max_pool(conv2d, ksize=[1,pool_ksize[0],pool_ksize[1], 1], strides=[1, pool_strides[0], pool_strides[1], 1], padding='SAME')\n",
    "    return conv2d \n",
    "\n",
    "\n",
    "\"\"\"\n",
    "DON'T MODIFY ANYTHING IN THIS CELL THAT IS BELOW THIS LINE\n",
    "\"\"\"\n",
    "tests.test_con_pool(conv2d_maxpool)"
   ]
  },
  {
   "cell_type": "markdown",
   "metadata": {
    "deletable": true,
    "editable": true
   },
   "source": [
    "### Flatten Layer\n",
    "Implement the `flatten` function to change the dimension of `x_tensor` from a 4-D tensor to a 2-D tensor.  The output should be the shape (*Batch Size*, *Flattened Image Size*). Shortcut option: you can use classes from the [TensorFlow Layers](https://www.tensorflow.org/api_docs/python/tf/layers) or [TensorFlow Layers (contrib)](https://www.tensorflow.org/api_guides/python/contrib.layers) packages for this layer. For more of a challenge, only use other TensorFlow packages."
   ]
  },
  {
   "cell_type": "code",
   "execution_count": 720,
   "metadata": {
    "collapsed": false,
    "deletable": true,
    "editable": true
   },
   "outputs": [
    {
     "name": "stdout",
     "output_type": "stream",
     "text": [
      "Tests Passed\n"
     ]
    }
   ],
   "source": [
    "def flatten(x_tensor):\n",
    "    \"\"\"\n",
    "    Flatten x_tensor to (Batch Size, Flattened Image Size)\n",
    "    : x_tensor: A tensor of size (Batch Size, ...), where ... are the image dimensions.\n",
    "    : return: A tensor of size (Batch Size, Flattened Image Size).\n",
    "    \"\"\"\n",
    "    # TODO: Implement Function\n",
    "    return tf.contrib.layers.flatten(x_tensor)\n",
    "\n",
    "\n",
    "\"\"\"\n",
    "DON'T MODIFY ANYTHING IN THIS CELL THAT IS BELOW THIS LINE\n",
    "\"\"\"\n",
    "tests.test_flatten(flatten)"
   ]
  },
  {
   "cell_type": "markdown",
   "metadata": {
    "deletable": true,
    "editable": true
   },
   "source": [
    "### Fully-Connected Layer\n",
    "Implement the `fully_conn` function to apply a fully connected layer to `x_tensor` with the shape (*Batch Size*, *num_outputs*). Shortcut option: you can use classes from the [TensorFlow Layers](https://www.tensorflow.org/api_docs/python/tf/layers) or [TensorFlow Layers (contrib)](https://www.tensorflow.org/api_guides/python/contrib.layers) packages for this layer. For more of a challenge, only use other TensorFlow packages."
   ]
  },
  {
   "cell_type": "code",
   "execution_count": 721,
   "metadata": {
    "collapsed": false,
    "deletable": true,
    "editable": true
   },
   "outputs": [
    {
     "name": "stdout",
     "output_type": "stream",
     "text": [
      "Tests Passed\n"
     ]
    }
   ],
   "source": [
    "def fully_conn(x_tensor, num_outputs):\n",
    "    \"\"\"\n",
    "    Apply a fully connected layer to x_tensor using weight and bias\n",
    "    : x_tensor: A 2-D tensor where the first dimension is batch size.\n",
    "    : num_outputs: The number of output that the new tensor should be.\n",
    "    : return: A 2-D tensor where the second dimension is num_outputs.\n",
    "    \"\"\"\n",
    "    # TODO: Implement Function\n",
    "    return tf.layers.dense(inputs=x_tensor, units=num_outputs, activation=tf.nn.relu)\n",
    "\n",
    "\n",
    "\"\"\"\n",
    "DON'T MODIFY ANYTHING IN THIS CELL THAT IS BELOW THIS LINE\n",
    "\"\"\"\n",
    "tests.test_fully_conn(fully_conn)"
   ]
  },
  {
   "cell_type": "markdown",
   "metadata": {
    "deletable": true,
    "editable": true
   },
   "source": [
    "### Output Layer\n",
    "Implement the `output` function to apply a fully connected layer to `x_tensor` with the shape (*Batch Size*, *num_outputs*). Shortcut option: you can use classes from the [TensorFlow Layers](https://www.tensorflow.org/api_docs/python/tf/layers) or [TensorFlow Layers (contrib)](https://www.tensorflow.org/api_guides/python/contrib.layers) packages for this layer. For more of a challenge, only use other TensorFlow packages.\n",
    "\n",
    "**Note:** Activation, softmax, or cross entropy should **not** be applied to this."
   ]
  },
  {
   "cell_type": "code",
   "execution_count": 788,
   "metadata": {
    "collapsed": false,
    "deletable": true,
    "editable": true
   },
   "outputs": [
    {
     "name": "stdout",
     "output_type": "stream",
     "text": [
      "Tests Passed\n"
     ]
    }
   ],
   "source": [
    "def output(x_tensor, num_outputs):\n",
    "    \"\"\"\n",
    "    Apply a output layer to x_tensor using weight and bias\n",
    "    : x_tensor: A 2-D tensor where the first dimension is batch size.\n",
    "    : num_outputs: The number of output that the new tensor should be.\n",
    "    : return: A 2-D tensor where the second dimension is num_outputs.\n",
    "    \"\"\"\n",
    "    # TODO: Implement Function\n",
    "    return  tf.layers.dense(inputs=x_tensor, units=num_outputs,  activation=None)\n",
    "\n",
    "\n",
    "\"\"\"\n",
    "DON'T MODIFY ANYTHING IN THIS CELL THAT IS BELOW THIS LINE\n",
    "\"\"\"\n",
    "tests.test_output(output)"
   ]
  },
  {
   "cell_type": "markdown",
   "metadata": {
    "deletable": true,
    "editable": true
   },
   "source": [
    "### Create Convolutional Model\n",
    "Implement the function `conv_net` to create a convolutional neural network model. The function takes in a batch of images, `x`, and outputs logits.  Use the layers you created above to create this model:\n",
    "\n",
    "* Apply 1, 2, or 3 Convolution and Max Pool layers\n",
    "* Apply a Flatten Layer\n",
    "* Apply 1, 2, or 3 Fully Connected Layers\n",
    "* Apply an Output Layer\n",
    "* Return the output\n",
    "* Apply [TensorFlow's Dropout](https://www.tensorflow.org/api_docs/python/tf/nn/dropout) to one or more layers in the model using `keep_prob`. "
   ]
  },
  {
   "cell_type": "code",
   "execution_count": 789,
   "metadata": {
    "collapsed": false,
    "deletable": true,
    "editable": true
   },
   "outputs": [
    {
     "name": "stdout",
     "output_type": "stream",
     "text": [
      "Neural Network Built!\n"
     ]
    }
   ],
   "source": [
    "def conv_net(x, keep_prob):\n",
    "    \"\"\"\n",
    "    Create a convolutional neural network model\n",
    "    : x: Placeholder tensor that holds image data.\n",
    "    : keep_prob: Placeholder tensor that hold dropout keep probability.\n",
    "    : return: Tensor that represents logits\n",
    "    \"\"\"\n",
    "    # TODO: Apply 1, 2, or 3 Convolution and Max Pool layers\n",
    "    #    Play around with different number of outputs, kernel size and stride\n",
    "    # Function Definition from Above:\n",
    "    #    conv2d_maxpool(x_tensor, conv_num_outputs, conv_ksize, conv_strides, pool_ksize, pool_strides)\n",
    "    x_tensor = conv2d_maxpool(x, 32, (5,5), (1,1), (2,2), (2,2))\n",
    "    x_tensor = conv2d_maxpool(x_tensor, 64, (5,5), (1,1), (2,2), (2,2))\n",
    "    x_tensor = conv2d_maxpool(x_tensor, 128, (5,5), (1,1), (2,2), (2,2))\n",
    "\n",
    "\n",
    "    # TODO: Apply a Flatten Layer\n",
    "    # Function Definition from Above:\n",
    "    x_tensor = flatten(x_tensor)\n",
    "    \n",
    "\n",
    "    # TODO: Apply 1, 2, or 3 Fully Connected Layers\n",
    "    #    Play around with different number of outputs\n",
    "    # Function Definition from Above:\n",
    "    x_tensor = fully_conn(x_tensor, 100)\n",
    "    x_tensor = tf.nn.dropout(x_tensor, keep_prob)\n",
    "\n",
    "\n",
    "    x_tensor = fully_conn(x_tensor, 800)\n",
    "    x_tensor = tf.nn.dropout(x_tensor, keep_prob)\n",
    "   \n",
    "    x_tensor = fully_conn(x_tensor, 2400)\n",
    "    x_tensor = tf.nn.dropout(x_tensor, keep_prob)\n",
    "\n",
    "\n",
    "    # TODO: Apply an Output Layer\n",
    "    #    Set this to the number of classes\n",
    "    # Function Definition from Above:\n",
    "    x_tensor =  output(x_tensor, 10)\n",
    "    \n",
    "    \n",
    "    # TODO: return output\n",
    "    return x_tensor\n",
    "\n",
    "\"\"\"\n",
    "DON'T MODIFY ANYTHING IN THIS CELL THAT IS BELOW THIS LINE\n",
    "\"\"\"\n",
    "\n",
    "##############################\n",
    "## Build the Neural Network ##\n",
    "##############################\n",
    "\n",
    "# Remove previous weights, bias, inputs, etc..\n",
    "tf.reset_default_graph()\n",
    "\n",
    "# Inputs\n",
    "x = neural_net_image_input((32, 32, 3))\n",
    "y = neural_net_label_input(10)\n",
    "keep_prob = neural_net_keep_prob_input()\n",
    "\n",
    "# Model\n",
    "logits = conv_net(x, keep_prob)\n",
    "\n",
    "# Name logits Tensor, so that is can be loaded from disk after training\n",
    "logits = tf.identity(logits, name='logits')\n",
    "\n",
    "# Loss and Optimizer\n",
    "cost = tf.reduce_mean(tf.nn.softmax_cross_entropy_with_logits(logits=logits, labels=y))\n",
    "optimizer = tf.train.AdamOptimizer().minimize(cost)\n",
    "\n",
    "# Accuracy\n",
    "correct_pred = tf.equal(tf.argmax(logits, 1), tf.argmax(y, 1))\n",
    "accuracy = tf.reduce_mean(tf.cast(correct_pred, tf.float32), name='accuracy')\n",
    "\n",
    "tests.test_conv_net(conv_net)"
   ]
  },
  {
   "cell_type": "markdown",
   "metadata": {
    "deletable": true,
    "editable": true
   },
   "source": [
    "## Train the Neural Network\n",
    "### Single Optimization\n",
    "Implement the function `train_neural_network` to do a single optimization.  The optimization should use `optimizer` to optimize in `session` with a `feed_dict` of the following:\n",
    "* `x` for image input\n",
    "* `y` for labels\n",
    "* `keep_prob` for keep probability for dropout\n",
    "\n",
    "This function will be called for each batch, so `tf.global_variables_initializer()` has already been called.\n",
    "\n",
    "Note: Nothing needs to be returned. This function is only optimizing the neural network."
   ]
  },
  {
   "cell_type": "code",
   "execution_count": 790,
   "metadata": {
    "collapsed": false,
    "deletable": true,
    "editable": true
   },
   "outputs": [
    {
     "name": "stdout",
     "output_type": "stream",
     "text": [
      "Tests Passed\n"
     ]
    }
   ],
   "source": [
    "def train_neural_network(session, optimizer, keep_probability, feature_batch, label_batch):\n",
    "    \"\"\"\n",
    "    Optimize the session on a batch of images and labels\n",
    "    : session: Current TensorFlow session\n",
    "    : optimizer: TensorFlow optimizer function\n",
    "    : keep_probability: keep probability\n",
    "    : feature_batch: Batch of Numpy image data\n",
    "    : label_batch: Batch of Numpy label data\n",
    "    \"\"\"\n",
    "    # TODO: Implement Function\n",
    "    session.run(optimizer, feed_dict={keep_prob : keep_probability, x : feature_batch, y:label_batch })\n",
    "\n",
    "\n",
    "\"\"\"\n",
    "DON'T MODIFY ANYTHING IN THIS CELL THAT IS BELOW THIS LINE\n",
    "\"\"\"\n",
    "tests.test_train_nn(train_neural_network)"
   ]
  },
  {
   "cell_type": "markdown",
   "metadata": {
    "deletable": true,
    "editable": true
   },
   "source": [
    "### Show Stats\n",
    "Implement the function `print_stats` to print loss and validation accuracy.  Use the global variables `valid_features` and `valid_labels` to calculate validation accuracy.  Use a keep probability of `1.0` to calculate the loss and validation accuracy."
   ]
  },
  {
   "cell_type": "code",
   "execution_count": 791,
   "metadata": {
    "collapsed": false,
    "deletable": true,
    "editable": true
   },
   "outputs": [],
   "source": [
    "def print_stats(session, feature_batch, label_batch, cost, accuracy):\n",
    "    \"\"\"\n",
    "    Print information about loss and validation accuracy\n",
    "    : session: Current TensorFlow session\n",
    "    : feature_batch: Batch of Numpy image data\n",
    "    : label_batch: Batch of Numpy label data\n",
    "    : cost: TensorFlow cost function\n",
    "    : accuracy: TensorFlow accuracy function\n",
    "    \"\"\"\n",
    "    # TODO: Implement Function\n",
    "    loss = session.run(cost, feed_dict={x: feature_batch, y: label_batch,keep_prob: 1.0})\n",
    "    valid_acc = session.run(accuracy, feed_dict={x: valid_features, y: valid_labels, keep_prob: 1.0})\n",
    "    print(\"Validation accuracy: {}, Loss: {}\".format(valid_acc, loss))"
   ]
  },
  {
   "cell_type": "markdown",
   "metadata": {
    "deletable": true,
    "editable": true
   },
   "source": [
    "### Hyperparameters\n",
    "Tune the following parameters:\n",
    "* Set `epochs` to the number of iterations until the network stops learning or start overfitting\n",
    "* Set `batch_size` to the highest number that your machine has memory for.  Most people set them to common sizes of memory:\n",
    " * 64\n",
    " * 128\n",
    " * 256\n",
    " * ...\n",
    "* Set `keep_probability` to the probability of keeping a node using dropout"
   ]
  },
  {
   "cell_type": "code",
   "execution_count": 792,
   "metadata": {
    "collapsed": true,
    "deletable": true,
    "editable": true
   },
   "outputs": [],
   "source": [
    "# TODO: Tune Parameters\n",
    "epochs = 30\n",
    "batch_size = 2048\n",
    "keep_probability = 0.75"
   ]
  },
  {
   "cell_type": "markdown",
   "metadata": {
    "deletable": true,
    "editable": true
   },
   "source": [
    "### Train on a Single CIFAR-10 Batch\n",
    "Instead of training the neural network on all the CIFAR-10 batches of data, let's use a single batch. This should save time while you iterate on the model to get a better accuracy.  Once the final validation accuracy is 50% or greater, run the model on all the data in the next section."
   ]
  },
  {
   "cell_type": "code",
   "execution_count": 793,
   "metadata": {
    "collapsed": false,
    "deletable": true,
    "editable": true
   },
   "outputs": [
    {
     "name": "stdout",
     "output_type": "stream",
     "text": [
      "Checking the Training on a Single Batch...\n",
      "Epoch  1, CIFAR-10 Batch 1:  Validation accuracy: 0.2037999927997589, Loss: 2.210773468017578\n",
      "Epoch  2, CIFAR-10 Batch 1:  Validation accuracy: 0.227199986577034, Loss: 2.1180739402770996\n",
      "Epoch  3, CIFAR-10 Batch 1:  Validation accuracy: 0.27559998631477356, Loss: 1.9927010536193848\n",
      "Epoch  4, CIFAR-10 Batch 1:  Validation accuracy: 0.3043999671936035, Loss: 1.9148958921432495\n",
      "Epoch  5, CIFAR-10 Batch 1:  Validation accuracy: 0.33139997720718384, Loss: 1.8949271440505981\n",
      "Epoch  6, CIFAR-10 Batch 1:  Validation accuracy: 0.3389999568462372, Loss: 1.7636103630065918\n",
      "Epoch  7, CIFAR-10 Batch 1:  Validation accuracy: 0.36820000410079956, Loss: 1.6875460147857666\n",
      "Epoch  8, CIFAR-10 Batch 1:  Validation accuracy: 0.38979998230934143, Loss: 1.6048204898834229\n",
      "Epoch  9, CIFAR-10 Batch 1:  Validation accuracy: 0.3993999660015106, Loss: 1.5532196760177612\n",
      "Epoch 10, CIFAR-10 Batch 1:  Validation accuracy: 0.4027999937534332, Loss: 1.5159969329833984\n",
      "Epoch 11, CIFAR-10 Batch 1:  Validation accuracy: 0.41519999504089355, Loss: 1.4312127828598022\n",
      "Epoch 12, CIFAR-10 Batch 1:  Validation accuracy: 0.41899996995925903, Loss: 1.411363124847412\n",
      "Epoch 13, CIFAR-10 Batch 1:  Validation accuracy: 0.44999998807907104, Loss: 1.325850248336792\n",
      "Epoch 14, CIFAR-10 Batch 1:  Validation accuracy: 0.4513999819755554, Loss: 1.2996435165405273\n",
      "Epoch 15, CIFAR-10 Batch 1:  Validation accuracy: 0.4667999744415283, Loss: 1.235289454460144\n",
      "Epoch 16, CIFAR-10 Batch 1:  Validation accuracy: 0.4795999526977539, Loss: 1.1436078548431396\n",
      "Epoch 17, CIFAR-10 Batch 1:  Validation accuracy: 0.48579996824264526, Loss: 1.1324776411056519\n",
      "Epoch 18, CIFAR-10 Batch 1:  Validation accuracy: 0.4878000020980835, Loss: 1.1115237474441528\n",
      "Epoch 19, CIFAR-10 Batch 1:  Validation accuracy: 0.4975999593734741, Loss: 1.012629508972168\n",
      "Epoch 20, CIFAR-10 Batch 1:  Validation accuracy: 0.5171999931335449, Loss: 0.9381965398788452\n",
      "Epoch 21, CIFAR-10 Batch 1:  Validation accuracy: 0.500999927520752, Loss: 1.0022929906845093\n",
      "Epoch 22, CIFAR-10 Batch 1:  Validation accuracy: 0.5011999607086182, Loss: 0.9293968677520752\n",
      "Epoch 23, CIFAR-10 Batch 1:  Validation accuracy: 0.533799946308136, Loss: 0.8232142329216003\n",
      "Epoch 24, CIFAR-10 Batch 1:  Validation accuracy: 0.5301999449729919, Loss: 0.7815381288528442\n",
      "Epoch 25, CIFAR-10 Batch 1:  Validation accuracy: 0.5313999652862549, Loss: 0.779240071773529\n",
      "Epoch 26, CIFAR-10 Batch 1:  Validation accuracy: 0.5313999652862549, Loss: 0.7243436574935913\n",
      "Epoch 27, CIFAR-10 Batch 1:  Validation accuracy: 0.5481999516487122, Loss: 0.6457012891769409\n",
      "Epoch 28, CIFAR-10 Batch 1:  Validation accuracy: 0.546799898147583, Loss: 0.587800920009613\n",
      "Epoch 29, CIFAR-10 Batch 1:  Validation accuracy: 0.543999969959259, Loss: 0.5405547022819519\n",
      "Epoch 30, CIFAR-10 Batch 1:  Validation accuracy: 0.5549999475479126, Loss: 0.5628511309623718\n"
     ]
    }
   ],
   "source": [
    "\"\"\"\n",
    "DON'T MODIFY ANYTHING IN THIS CELL\n",
    "\"\"\"\n",
    "print('Checking the Training on a Single Batch...')\n",
    "with tf.Session() as sess:\n",
    "    # Initializing the variables\n",
    "    sess.run(tf.global_variables_initializer())\n",
    "    \n",
    "    # Training cycle\n",
    "    for epoch in range(epochs):\n",
    "        batch_i = 1\n",
    "        for batch_features, batch_labels in helper.load_preprocess_training_batch(batch_i, batch_size):\n",
    "            train_neural_network(sess, optimizer, keep_probability, batch_features, batch_labels)\n",
    "        print('Epoch {:>2}, CIFAR-10 Batch {}:  '.format(epoch + 1, batch_i), end='')\n",
    "        print_stats(sess, batch_features, batch_labels, cost, accuracy)"
   ]
  },
  {
   "cell_type": "markdown",
   "metadata": {
    "deletable": true,
    "editable": true
   },
   "source": [
    "### Fully Train the Model\n",
    "Now that you got a good accuracy with a single CIFAR-10 batch, try it with all five batches."
   ]
  },
  {
   "cell_type": "code",
   "execution_count": 794,
   "metadata": {
    "collapsed": false,
    "deletable": true,
    "editable": true
   },
   "outputs": [
    {
     "name": "stdout",
     "output_type": "stream",
     "text": [
      "Training...\n",
      "Epoch  1, CIFAR-10 Batch 1:  Validation accuracy: 0.11959999054670334, Loss: 2.2687923908233643\n",
      "Epoch  1, CIFAR-10 Batch 2:  Validation accuracy: 0.22439999878406525, Loss: 2.0818371772766113\n",
      "Epoch  1, CIFAR-10 Batch 3:  Validation accuracy: 0.2085999995470047, Loss: 2.0689964294433594\n",
      "Epoch  1, CIFAR-10 Batch 4:  Validation accuracy: 0.20259998738765717, Loss: 2.153520107269287\n",
      "Epoch  1, CIFAR-10 Batch 5:  Validation accuracy: 0.19619999825954437, Loss: 2.049661159515381\n",
      "Epoch  2, CIFAR-10 Batch 1:  Validation accuracy: 0.2613999843597412, Loss: 1.949091911315918\n",
      "Epoch  2, CIFAR-10 Batch 2:  Validation accuracy: 0.32739996910095215, Loss: 1.861450433731079\n",
      "Epoch  2, CIFAR-10 Batch 3:  Validation accuracy: 0.28940001130104065, Loss: 1.8514220714569092\n",
      "Epoch  2, CIFAR-10 Batch 4:  Validation accuracy: 0.35499995946884155, Loss: 1.7200320959091187\n",
      "Epoch  2, CIFAR-10 Batch 5:  Validation accuracy: 0.35979998111724854, Loss: 1.705693006515503\n",
      "Epoch  3, CIFAR-10 Batch 1:  Validation accuracy: 0.3845999836921692, Loss: 1.6223978996276855\n",
      "Epoch  3, CIFAR-10 Batch 2:  Validation accuracy: 0.40059995651245117, Loss: 1.5901386737823486\n",
      "Epoch  3, CIFAR-10 Batch 3:  Validation accuracy: 0.4195999801158905, Loss: 1.4930737018585205\n",
      "Epoch  3, CIFAR-10 Batch 4:  Validation accuracy: 0.44039997458457947, Loss: 1.4901374578475952\n",
      "Epoch  3, CIFAR-10 Batch 5:  Validation accuracy: 0.45180001854896545, Loss: 1.4668622016906738\n",
      "Epoch  4, CIFAR-10 Batch 1:  Validation accuracy: 0.4431999921798706, Loss: 1.4779772758483887\n",
      "Epoch  4, CIFAR-10 Batch 2:  Validation accuracy: 0.4505999684333801, Loss: 1.4470417499542236\n",
      "Epoch  4, CIFAR-10 Batch 3:  Validation accuracy: 0.46299993991851807, Loss: 1.372208833694458\n",
      "Epoch  4, CIFAR-10 Batch 4:  Validation accuracy: 0.48619991540908813, Loss: 1.3399381637573242\n",
      "Epoch  4, CIFAR-10 Batch 5:  Validation accuracy: 0.46439996361732483, Loss: 1.373232126235962\n",
      "Epoch  5, CIFAR-10 Batch 1:  Validation accuracy: 0.4899999499320984, Loss: 1.3408889770507812\n",
      "Epoch  5, CIFAR-10 Batch 2:  Validation accuracy: 0.49119994044303894, Loss: 1.3121867179870605\n",
      "Epoch  5, CIFAR-10 Batch 3:  Validation accuracy: 0.48639994859695435, Loss: 1.277899146080017\n",
      "Epoch  5, CIFAR-10 Batch 4:  Validation accuracy: 0.5275999307632446, Loss: 1.2026695013046265\n",
      "Epoch  5, CIFAR-10 Batch 5:  Validation accuracy: 0.5251999497413635, Loss: 1.2118608951568604\n",
      "Epoch  6, CIFAR-10 Batch 1:  Validation accuracy: 0.5377999544143677, Loss: 1.16630220413208\n",
      "Epoch  6, CIFAR-10 Batch 2:  Validation accuracy: 0.5379999279975891, Loss: 1.1919159889221191\n",
      "Epoch  6, CIFAR-10 Batch 3:  Validation accuracy: 0.5469999313354492, Loss: 1.071051836013794\n",
      "Epoch  6, CIFAR-10 Batch 4:  Validation accuracy: 0.5461999177932739, Loss: 1.1143639087677002\n",
      "Epoch  6, CIFAR-10 Batch 5:  Validation accuracy: 0.5585999488830566, Loss: 1.0763307809829712\n",
      "Epoch  7, CIFAR-10 Batch 1:  Validation accuracy: 0.5597999095916748, Loss: 1.0606300830841064\n",
      "Epoch  7, CIFAR-10 Batch 2:  Validation accuracy: 0.5689998865127563, Loss: 1.0745365619659424\n",
      "Epoch  7, CIFAR-10 Batch 3:  Validation accuracy: 0.5435999631881714, Loss: 1.0506012439727783\n",
      "Epoch  7, CIFAR-10 Batch 4:  Validation accuracy: 0.5767999291419983, Loss: 0.9951387643814087\n",
      "Epoch  7, CIFAR-10 Batch 5:  Validation accuracy: 0.5785999298095703, Loss: 0.976731538772583\n",
      "Epoch  8, CIFAR-10 Batch 1:  Validation accuracy: 0.5731998682022095, Loss: 1.005487322807312\n",
      "Epoch  8, CIFAR-10 Batch 2:  Validation accuracy: 0.5839999318122864, Loss: 1.0035324096679688\n",
      "Epoch  8, CIFAR-10 Batch 3:  Validation accuracy: 0.5747999548912048, Loss: 0.9326740503311157\n",
      "Epoch  8, CIFAR-10 Batch 4:  Validation accuracy: 0.5963999032974243, Loss: 0.8991349339485168\n",
      "Epoch  8, CIFAR-10 Batch 5:  Validation accuracy: 0.5715999603271484, Loss: 0.9736790657043457\n",
      "Epoch  9, CIFAR-10 Batch 1:  Validation accuracy: 0.5979998707771301, Loss: 0.9236916303634644\n",
      "Epoch  9, CIFAR-10 Batch 2:  Validation accuracy: 0.5895999073982239, Loss: 0.9325079917907715\n",
      "Epoch  9, CIFAR-10 Batch 3:  Validation accuracy: 0.6113999485969543, Loss: 0.8049881458282471\n",
      "Epoch  9, CIFAR-10 Batch 4:  Validation accuracy: 0.603399932384491, Loss: 0.8304821252822876\n",
      "Epoch  9, CIFAR-10 Batch 5:  Validation accuracy: 0.6037999391555786, Loss: 0.8072049617767334\n",
      "Epoch 10, CIFAR-10 Batch 1:  Validation accuracy: 0.6181998252868652, Loss: 0.8058351278305054\n",
      "Epoch 10, CIFAR-10 Batch 2:  Validation accuracy: 0.6135998964309692, Loss: 0.8056168556213379\n",
      "Epoch 10, CIFAR-10 Batch 3:  Validation accuracy: 0.6145999431610107, Loss: 0.7526037693023682\n",
      "Epoch 10, CIFAR-10 Batch 4:  Validation accuracy: 0.6259998679161072, Loss: 0.7347944974899292\n",
      "Epoch 10, CIFAR-10 Batch 5:  Validation accuracy: 0.6205999255180359, Loss: 0.7059323191642761\n",
      "Epoch 11, CIFAR-10 Batch 1:  Validation accuracy: 0.607999861240387, Loss: 0.7811852097511292\n",
      "Epoch 11, CIFAR-10 Batch 2:  Validation accuracy: 0.6337999105453491, Loss: 0.7490557432174683\n",
      "Epoch 11, CIFAR-10 Batch 3:  Validation accuracy: 0.6155998706817627, Loss: 0.6753355264663696\n",
      "Epoch 11, CIFAR-10 Batch 4:  Validation accuracy: 0.6093999147415161, Loss: 0.7261035442352295\n",
      "Epoch 11, CIFAR-10 Batch 5:  Validation accuracy: 0.6207998991012573, Loss: 0.6740652918815613\n",
      "Epoch 12, CIFAR-10 Batch 1:  Validation accuracy: 0.6333999037742615, Loss: 0.6824856996536255\n",
      "Epoch 12, CIFAR-10 Batch 2:  Validation accuracy: 0.6195998787879944, Loss: 0.7436349391937256\n",
      "Epoch 12, CIFAR-10 Batch 3:  Validation accuracy: 0.6267998814582825, Loss: 0.6434001326560974\n",
      "Epoch 12, CIFAR-10 Batch 4:  Validation accuracy: 0.619399905204773, Loss: 0.6938369274139404\n",
      "Epoch 12, CIFAR-10 Batch 5:  Validation accuracy: 0.6397998929023743, Loss: 0.623227059841156\n",
      "Epoch 13, CIFAR-10 Batch 1:  Validation accuracy: 0.6327999234199524, Loss: 0.6415388584136963\n",
      "Epoch 13, CIFAR-10 Batch 2:  Validation accuracy: 0.6275998950004578, Loss: 0.6647578477859497\n",
      "Epoch 13, CIFAR-10 Batch 3:  Validation accuracy: 0.6235998868942261, Loss: 0.6064261198043823\n",
      "Epoch 13, CIFAR-10 Batch 4:  Validation accuracy: 0.6327999234199524, Loss: 0.6054845452308655\n",
      "Epoch 13, CIFAR-10 Batch 5:  Validation accuracy: 0.6319999098777771, Loss: 0.5856098532676697\n",
      "Epoch 14, CIFAR-10 Batch 1:  Validation accuracy: 0.6417998671531677, Loss: 0.5757203102111816\n",
      "Epoch 14, CIFAR-10 Batch 2:  Validation accuracy: 0.6085999011993408, Loss: 0.6408125758171082\n",
      "Epoch 14, CIFAR-10 Batch 3:  Validation accuracy: 0.632599949836731, Loss: 0.5664349794387817\n",
      "Epoch 14, CIFAR-10 Batch 4:  Validation accuracy: 0.6315999031066895, Loss: 0.5527682304382324\n",
      "Epoch 14, CIFAR-10 Batch 5:  Validation accuracy: 0.6381998658180237, Loss: 0.5417467355728149\n",
      "Epoch 15, CIFAR-10 Batch 1:  Validation accuracy: 0.6481999158859253, Loss: 0.5410394072532654\n",
      "Epoch 15, CIFAR-10 Batch 2:  Validation accuracy: 0.6289999485015869, Loss: 0.5853521227836609\n",
      "Epoch 15, CIFAR-10 Batch 3:  Validation accuracy: 0.6525999307632446, Loss: 0.5229654312133789\n",
      "Epoch 15, CIFAR-10 Batch 4:  Validation accuracy: 0.6533998250961304, Loss: 0.49082204699516296\n",
      "Epoch 15, CIFAR-10 Batch 5:  Validation accuracy: 0.6581999063491821, Loss: 0.47001320123672485\n",
      "Epoch 16, CIFAR-10 Batch 1:  Validation accuracy: 0.6639998555183411, Loss: 0.45125943422317505\n",
      "Epoch 16, CIFAR-10 Batch 2:  Validation accuracy: 0.6427999138832092, Loss: 0.5105141997337341\n",
      "Epoch 16, CIFAR-10 Batch 3:  Validation accuracy: 0.6427998542785645, Loss: 0.47635313868522644\n",
      "Epoch 16, CIFAR-10 Batch 4:  Validation accuracy: 0.6545999050140381, Loss: 0.4254431128501892\n",
      "Epoch 16, CIFAR-10 Batch 5:  Validation accuracy: 0.6543999314308167, Loss: 0.44638654589653015\n",
      "Epoch 17, CIFAR-10 Batch 1:  Validation accuracy: 0.6605998873710632, Loss: 0.4287795424461365\n",
      "Epoch 17, CIFAR-10 Batch 2:  Validation accuracy: 0.6497999429702759, Loss: 0.46473467350006104\n",
      "Epoch 17, CIFAR-10 Batch 3:  Validation accuracy: 0.6381999254226685, Loss: 0.460395485162735\n",
      "Epoch 17, CIFAR-10 Batch 4:  Validation accuracy: 0.6343998908996582, Loss: 0.460492879152298\n",
      "Epoch 17, CIFAR-10 Batch 5:  Validation accuracy: 0.6285998821258545, Loss: 0.4647858738899231\n",
      "Epoch 18, CIFAR-10 Batch 1:  Validation accuracy: 0.6541998982429504, Loss: 0.4332685172557831\n",
      "Epoch 18, CIFAR-10 Batch 2:  Validation accuracy: 0.6475998759269714, Loss: 0.44322729110717773\n",
      "Epoch 18, CIFAR-10 Batch 3:  Validation accuracy: 0.6395999193191528, Loss: 0.4523492455482483\n",
      "Epoch 18, CIFAR-10 Batch 4:  Validation accuracy: 0.6637998819351196, Loss: 0.3862612247467041\n",
      "Epoch 18, CIFAR-10 Batch 5:  Validation accuracy: 0.6533999443054199, Loss: 0.3437535762786865\n",
      "Epoch 19, CIFAR-10 Batch 1:  Validation accuracy: 0.6655999422073364, Loss: 0.3718174993991852\n",
      "Epoch 19, CIFAR-10 Batch 2:  Validation accuracy: 0.6723998785018921, Loss: 0.39495837688446045\n",
      "Epoch 19, CIFAR-10 Batch 3:  Validation accuracy: 0.6647999286651611, Loss: 0.35229310393333435\n",
      "Epoch 19, CIFAR-10 Batch 4:  Validation accuracy: 0.6603999137878418, Loss: 0.3458842635154724\n",
      "Epoch 19, CIFAR-10 Batch 5:  Validation accuracy: 0.6559998989105225, Loss: 0.32850876450538635\n",
      "Epoch 20, CIFAR-10 Batch 1:  Validation accuracy: 0.6605998873710632, Loss: 0.33249929547309875\n",
      "Epoch 20, CIFAR-10 Batch 2:  Validation accuracy: 0.665199875831604, Loss: 0.3700195252895355\n",
      "Epoch 20, CIFAR-10 Batch 3:  Validation accuracy: 0.6629998683929443, Loss: 0.3230910003185272\n",
      "Epoch 20, CIFAR-10 Batch 4:  Validation accuracy: 0.6625998616218567, Loss: 0.313220739364624\n",
      "Epoch 20, CIFAR-10 Batch 5:  Validation accuracy: 0.6659998893737793, Loss: 0.2864028215408325\n",
      "Epoch 21, CIFAR-10 Batch 1:  Validation accuracy: 0.6685999631881714, Loss: 0.2997243404388428\n",
      "Epoch 21, CIFAR-10 Batch 2:  Validation accuracy: 0.6559998393058777, Loss: 0.33122795820236206\n",
      "Epoch 21, CIFAR-10 Batch 3:  Validation accuracy: 0.6625998616218567, Loss: 0.32796093821525574\n",
      "Epoch 21, CIFAR-10 Batch 4:  Validation accuracy: 0.653999924659729, Loss: 0.3141655921936035\n",
      "Epoch 21, CIFAR-10 Batch 5:  Validation accuracy: 0.6635998487472534, Loss: 0.2790836691856384\n",
      "Epoch 22, CIFAR-10 Batch 1:  Validation accuracy: 0.6757999062538147, Loss: 0.2640261948108673\n",
      "Epoch 22, CIFAR-10 Batch 2:  Validation accuracy: 0.6647999286651611, Loss: 0.304455429315567\n",
      "Epoch 22, CIFAR-10 Batch 3:  Validation accuracy: 0.6721997857093811, Loss: 0.282283216714859\n",
      "Epoch 22, CIFAR-10 Batch 4:  Validation accuracy: 0.6693998575210571, Loss: 0.24165292084217072\n",
      "Epoch 22, CIFAR-10 Batch 5:  Validation accuracy: 0.6735998392105103, Loss: 0.22975464165210724\n",
      "Epoch 23, CIFAR-10 Batch 1:  Validation accuracy: 0.6747998595237732, Loss: 0.2468109279870987\n",
      "Epoch 23, CIFAR-10 Batch 2:  Validation accuracy: 0.6545999050140381, Loss: 0.31581616401672363\n",
      "Epoch 23, CIFAR-10 Batch 3:  Validation accuracy: 0.665199875831604, Loss: 0.24980813264846802\n",
      "Epoch 23, CIFAR-10 Batch 4:  Validation accuracy: 0.6673998832702637, Loss: 0.25493550300598145\n",
      "Epoch 23, CIFAR-10 Batch 5:  Validation accuracy: 0.6641998887062073, Loss: 0.23540255427360535\n",
      "Epoch 24, CIFAR-10 Batch 1:  Validation accuracy: 0.663399875164032, Loss: 0.22849994897842407\n",
      "Epoch 24, CIFAR-10 Batch 2:  Validation accuracy: 0.6507998704910278, Loss: 0.2774345576763153\n",
      "Epoch 24, CIFAR-10 Batch 3:  Validation accuracy: 0.6483998894691467, Loss: 0.27176743745803833\n",
      "Epoch 24, CIFAR-10 Batch 4:  Validation accuracy: 0.6543998718261719, Loss: 0.2434076964855194\n",
      "Epoch 24, CIFAR-10 Batch 5:  Validation accuracy: 0.6465998888015747, Loss: 0.24946516752243042\n",
      "Epoch 25, CIFAR-10 Batch 1:  Validation accuracy: 0.654999852180481, Loss: 0.24611207842826843\n",
      "Epoch 25, CIFAR-10 Batch 2:  Validation accuracy: 0.6465998888015747, Loss: 0.26850569248199463\n",
      "Epoch 25, CIFAR-10 Batch 3:  Validation accuracy: 0.6553998589515686, Loss: 0.25313514471054077\n",
      "Epoch 25, CIFAR-10 Batch 4:  Validation accuracy: 0.6675998568534851, Loss: 0.22079387307167053\n",
      "Epoch 25, CIFAR-10 Batch 5:  Validation accuracy: 0.6757998466491699, Loss: 0.19339464604854584\n",
      "Epoch 26, CIFAR-10 Batch 1:  Validation accuracy: 0.6775999069213867, Loss: 0.2084294855594635\n",
      "Epoch 26, CIFAR-10 Batch 2:  Validation accuracy: 0.6555998921394348, Loss: 0.2310434877872467\n",
      "Epoch 26, CIFAR-10 Batch 3:  Validation accuracy: 0.6675998568534851, Loss: 0.21683529019355774\n",
      "Epoch 26, CIFAR-10 Batch 4:  Validation accuracy: 0.6701998710632324, Loss: 0.20566946268081665\n",
      "Epoch 26, CIFAR-10 Batch 5:  Validation accuracy: 0.6649999022483826, Loss: 0.19228148460388184\n",
      "Epoch 27, CIFAR-10 Batch 1:  Validation accuracy: 0.6717998385429382, Loss: 0.2131277322769165\n",
      "Epoch 27, CIFAR-10 Batch 2:  Validation accuracy: 0.6701998710632324, Loss: 0.21793276071548462\n",
      "Epoch 27, CIFAR-10 Batch 3:  Validation accuracy: 0.6527999043464661, Loss: 0.19940678775310516\n",
      "Epoch 27, CIFAR-10 Batch 4:  Validation accuracy: 0.6593998670578003, Loss: 0.1960330307483673\n",
      "Epoch 27, CIFAR-10 Batch 5:  Validation accuracy: 0.6551999449729919, Loss: 0.1924797147512436\n",
      "Epoch 28, CIFAR-10 Batch 1:  Validation accuracy: 0.6653998494148254, Loss: 0.20075415074825287\n",
      "Epoch 28, CIFAR-10 Batch 2:  Validation accuracy: 0.66159987449646, Loss: 0.23820829391479492\n",
      "Epoch 28, CIFAR-10 Batch 3:  Validation accuracy: 0.6523998975753784, Loss: 0.21973128616809845\n",
      "Epoch 28, CIFAR-10 Batch 4:  Validation accuracy: 0.6623998284339905, Loss: 0.17998006939888\n",
      "Epoch 28, CIFAR-10 Batch 5:  Validation accuracy: 0.6815998554229736, Loss: 0.17420974373817444\n",
      "Epoch 29, CIFAR-10 Batch 1:  Validation accuracy: 0.6777998805046082, Loss: 0.1768341213464737\n",
      "Epoch 29, CIFAR-10 Batch 2:  Validation accuracy: 0.6537998914718628, Loss: 0.22180260717868805\n",
      "Epoch 29, CIFAR-10 Batch 3:  Validation accuracy: 0.6659998893737793, Loss: 0.18545573949813843\n",
      "Epoch 29, CIFAR-10 Batch 4:  Validation accuracy: 0.6737998723983765, Loss: 0.16353021562099457\n",
      "Epoch 29, CIFAR-10 Batch 5:  Validation accuracy: 0.6667999029159546, Loss: 0.1604887694120407\n",
      "Epoch 30, CIFAR-10 Batch 1:  Validation accuracy: 0.6675998568534851, Loss: 0.14645341038703918\n",
      "Epoch 30, CIFAR-10 Batch 2:  Validation accuracy: 0.6731999516487122, Loss: 0.1765603870153427\n",
      "Epoch 30, CIFAR-10 Batch 3:  Validation accuracy: 0.6635999083518982, Loss: 0.17398017644882202\n",
      "Epoch 30, CIFAR-10 Batch 4:  Validation accuracy: 0.6737998127937317, Loss: 0.1479784995317459\n",
      "Epoch 30, CIFAR-10 Batch 5:  Validation accuracy: 0.6657998561859131, Loss: 0.13718979060649872\n"
     ]
    }
   ],
   "source": [
    "\"\"\"\n",
    "DON'T MODIFY ANYTHING IN THIS CELL\n",
    "\"\"\"\n",
    "save_model_path = './image_classification'\n",
    "\n",
    "print('Training...')\n",
    "with tf.Session() as sess:\n",
    "    # Initializing the variables\n",
    "    sess.run(tf.global_variables_initializer())\n",
    "    \n",
    "    # Training cycle\n",
    "    for epoch in range(epochs):\n",
    "        # Loop over all batches\n",
    "        n_batches = 5\n",
    "        for batch_i in range(1, n_batches + 1):\n",
    "            for batch_features, batch_labels in helper.load_preprocess_training_batch(batch_i, batch_size):\n",
    "                train_neural_network(sess, optimizer, keep_probability, batch_features, batch_labels)\n",
    "            print('Epoch {:>2}, CIFAR-10 Batch {}:  '.format(epoch + 1, batch_i), end='')\n",
    "            print_stats(sess, batch_features, batch_labels, cost, accuracy)\n",
    "            \n",
    "    # Save Model\n",
    "    saver = tf.train.Saver()\n",
    "    save_path = saver.save(sess, save_model_path)"
   ]
  },
  {
   "cell_type": "markdown",
   "metadata": {
    "deletable": true,
    "editable": true
   },
   "source": [
    "# Checkpoint\n",
    "The model has been saved to disk.\n",
    "## Test Model\n",
    "Test your model against the test dataset.  This will be your final accuracy. You should have an accuracy greater than 50%. If you don't, keep tweaking the model architecture and parameters."
   ]
  },
  {
   "cell_type": "code",
   "execution_count": 795,
   "metadata": {
    "collapsed": false,
    "deletable": true,
    "editable": true
   },
   "outputs": [
    {
     "name": "stdout",
     "output_type": "stream",
     "text": [
      "Testing Accuracy: 0.6627834677696228\n",
      "\n"
     ]
    },
    {
     "data": {
      "image/png": "[encoded data removed]",
      "text/plain": [
       "<matplotlib.figure.Figure at 0x7f0bc6bbeda0>"
      ]
     },
     "metadata": {
      "image/png": {
       "height": 319,
       "width": 355
      }
     },
     "output_type": "display_data"
    }
   ],
   "source": [
    "\"\"\"\n",
    "DON'T MODIFY ANYTHING IN THIS CELL\n",
    "\"\"\"\n",
    "%matplotlib inline\n",
    "%config InlineBackend.figure_format = 'retina'\n",
    "\n",
    "import tensorflow as tf\n",
    "import pickle\n",
    "import helper\n",
    "import random\n",
    "\n",
    "# Set batch size if not already set\n",
    "try:\n",
    "    if batch_size:\n",
    "        pass\n",
    "except NameError:\n",
    "    batch_size = 64\n",
    "\n",
    "save_model_path = './image_classification'\n",
    "n_samples = 4\n",
    "top_n_predictions = 3\n",
    "\n",
    "def test_model():\n",
    "    \"\"\"\n",
    "    Test the saved model against the test dataset\n",
    "    \"\"\"\n",
    "\n",
    "    test_features, test_labels = pickle.load(open('preprocess_training.p', mode='rb'))\n",
    "    loaded_graph = tf.Graph()\n",
    "\n",
    "    with tf.Session(graph=loaded_graph) as sess:\n",
    "        # Load model\n",
    "        loader = tf.train.import_meta_graph(save_model_path + '.meta')\n",
    "        loader.restore(sess, save_model_path)\n",
    "\n",
    "        # Get Tensors from loaded model\n",
    "        loaded_x = loaded_graph.get_tensor_by_name('x:0')\n",
    "        loaded_y = loaded_graph.get_tensor_by_name('y:0')\n",
    "        loaded_keep_prob = loaded_graph.get_tensor_by_name('keep_prob:0')\n",
    "        loaded_logits = loaded_graph.get_tensor_by_name('logits:0')\n",
    "        loaded_acc = loaded_graph.get_tensor_by_name('accuracy:0')\n",
    "        \n",
    "        # Get accuracy in batches for memory limitations\n",
    "        test_batch_acc_total = 0\n",
    "        test_batch_count = 0\n",
    "        \n",
    "        for train_feature_batch, train_label_batch in helper.batch_features_labels(test_features, test_labels, batch_size):\n",
    "            test_batch_acc_total += sess.run(\n",
    "                loaded_acc,\n",
    "                feed_dict={loaded_x: train_feature_batch, loaded_y: train_label_batch, loaded_keep_prob: 1.0})\n",
    "            test_batch_count += 1\n",
    "\n",
    "        print('Testing Accuracy: {}\\n'.format(test_batch_acc_total/test_batch_count))\n",
    "\n",
    "        # Print Random Samples\n",
    "        random_test_features, random_test_labels = tuple(zip(*random.sample(list(zip(test_features, test_labels)), n_samples)))\n",
    "        random_test_predictions = sess.run(\n",
    "            tf.nn.top_k(tf.nn.softmax(loaded_logits), top_n_predictions),\n",
    "            feed_dict={loaded_x: random_test_features, loaded_y: random_test_labels, loaded_keep_prob: 1.0})\n",
    "        helper.display_image_predictions(random_test_features, random_test_labels, random_test_predictions)\n",
    "\n",
    "\n",
    "test_model()"
   ]
  },
  {
   "cell_type": "markdown",
   "metadata": {
    "deletable": true,
    "editable": true
   },
   "source": [
    "## Why 50-70% Accuracy?\n",
    "You might be wondering why you can't get an accuracy any higher. First things first, 50% isn't bad for a simple CNN.  Pure guessing would get you 10% accuracy. However, you might notice people are getting scores [well above 70%](http://rodrigob.github.io/are_we_there_yet/build/classification_datasets_results.html#43494641522d3130).  That's because we haven't taught you all there is to know about neural networks. We still need to cover a few more techniques.\n",
    "## Submitting This Project\n",
    "When submitting this project, make sure to run all the cells before saving the notebook.  Save the notebook file as \"dlnd_image_classification.ipynb\" and save it as a HTML file under \"File\" -> \"Download as\".  Include the \"helper.py\" and \"problem_unittests.py\" files in your submission."
   ]
  },
  {
   "cell_type": "code",
   "execution_count": null,
   "metadata": {
    "collapsed": true
   },
   "outputs": [],
   "source": []
  }
 ],
 "metadata": {
  "kernelspec": {
   "display_name": "Python 3",
   "language": "python",
   "name": "python3"
  },
  "language_info": {
   "codemirror_mode": {
    "name": "ipython",
    "version": 3
   },
   "file_extension": ".py",
   "mimetype": "text/x-python",
   "name": "python",
   "nbconvert_exporter": "python",
   "pygments_lexer": "ipython3",
   "version": "3.5.2"
  },
  "widgets": {
   "state": {},
   "version": "1.1.2"
  }
 },
 "nbformat": 4,
 "nbformat_minor": 0
}
